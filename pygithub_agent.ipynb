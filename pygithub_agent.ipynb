{
 "cells": [
  {
   "cell_type": "code",
   "execution_count": 1,
   "id": "1fb2aa86",
   "metadata": {},
   "outputs": [
    {
     "name": "stdout",
     "output_type": "stream",
     "text": [
      "Collecting pygithub\n",
      "  Downloading PyGithub-1.59.1-py3-none-any.whl (342 kB)\n",
      "     -------------------------------------- 342.2/342.2 kB 7.2 MB/s eta 0:00:00\n",
      "Requirement already satisfied: pynacl>=1.4.0 in c:\\users\\huan bui\\anaconda3\\lib\\site-packages (from pygithub) (1.5.0)\n",
      "Collecting deprecated\n",
      "  Downloading Deprecated-1.2.14-py2.py3-none-any.whl (9.6 kB)\n",
      "Requirement already satisfied: requests>=2.14.0 in c:\\users\\huan bui\\appdata\\roaming\\python\\python310\\site-packages (from pygithub) (2.28.1)\n",
      "Requirement already satisfied: pyjwt[crypto]>=2.4.0 in c:\\users\\huan bui\\anaconda3\\lib\\site-packages (from pygithub) (2.4.0)\n",
      "Requirement already satisfied: cryptography>=3.3.1 in c:\\users\\huan bui\\anaconda3\\lib\\site-packages (from pyjwt[crypto]>=2.4.0->pygithub) (39.0.1)\n",
      "Requirement already satisfied: cffi>=1.4.1 in c:\\users\\huan bui\\anaconda3\\lib\\site-packages (from pynacl>=1.4.0->pygithub) (1.15.1)\n",
      "Requirement already satisfied: charset-normalizer<3,>=2 in c:\\users\\huan bui\\anaconda3\\lib\\site-packages (from requests>=2.14.0->pygithub) (2.0.4)\n",
      "Requirement already satisfied: urllib3<1.27,>=1.21.1 in c:\\users\\huan bui\\anaconda3\\lib\\site-packages (from requests>=2.14.0->pygithub) (1.26.14)\n",
      "Requirement already satisfied: certifi>=2017.4.17 in c:\\users\\huan bui\\anaconda3\\lib\\site-packages (from requests>=2.14.0->pygithub) (2022.12.7)\n",
      "Requirement already satisfied: idna<4,>=2.5 in c:\\users\\huan bui\\anaconda3\\lib\\site-packages (from requests>=2.14.0->pygithub) (3.4)\n",
      "Requirement already satisfied: wrapt<2,>=1.10 in c:\\users\\huan bui\\anaconda3\\lib\\site-packages (from deprecated->pygithub) (1.14.1)\n",
      "Requirement already satisfied: pycparser in c:\\users\\huan bui\\anaconda3\\lib\\site-packages (from cffi>=1.4.1->pynacl>=1.4.0->pygithub) (2.21)\n",
      "Installing collected packages: deprecated, pygithub\n",
      "Successfully installed deprecated-1.2.14 pygithub-1.59.1\n"
     ]
    }
   ],
   "source": [
    "!pip install pygithub"
   ]
  },
  {
   "cell_type": "code",
   "execution_count": 3,
   "id": "d4e0301a",
   "metadata": {},
   "outputs": [
    {
     "ename": "ModuleNotFoundError",
     "evalue": "No module named 'langchain.agents.agent_toolkits.github'",
     "output_type": "error",
     "traceback": [
      "\u001b[1;31m---------------------------------------------------------------------------\u001b[0m",
      "\u001b[1;31mModuleNotFoundError\u001b[0m                       Traceback (most recent call last)",
      "Cell \u001b[1;32mIn[3], line 4\u001b[0m\n\u001b[0;32m      2\u001b[0m \u001b[38;5;28;01mfrom\u001b[39;00m \u001b[38;5;21;01mlangchain\u001b[39;00m\u001b[38;5;21;01m.\u001b[39;00m\u001b[38;5;21;01magents\u001b[39;00m \u001b[38;5;28;01mimport\u001b[39;00m AgentType\n\u001b[0;32m      3\u001b[0m \u001b[38;5;28;01mfrom\u001b[39;00m \u001b[38;5;21;01mlangchain\u001b[39;00m\u001b[38;5;21;01m.\u001b[39;00m\u001b[38;5;21;01magents\u001b[39;00m \u001b[38;5;28;01mimport\u001b[39;00m initialize_agent\n\u001b[1;32m----> 4\u001b[0m \u001b[38;5;28;01mfrom\u001b[39;00m \u001b[38;5;21;01mlangchain\u001b[39;00m\u001b[38;5;21;01m.\u001b[39;00m\u001b[38;5;21;01magents\u001b[39;00m\u001b[38;5;21;01m.\u001b[39;00m\u001b[38;5;21;01magent_toolkits\u001b[39;00m\u001b[38;5;21;01m.\u001b[39;00m\u001b[38;5;21;01mgithub\u001b[39;00m\u001b[38;5;21;01m.\u001b[39;00m\u001b[38;5;21;01mtoolkit\u001b[39;00m \u001b[38;5;28;01mimport\u001b[39;00m GitHubToolkit\n\u001b[0;32m      5\u001b[0m \u001b[38;5;28;01mfrom\u001b[39;00m \u001b[38;5;21;01mlangchain\u001b[39;00m\u001b[38;5;21;01m.\u001b[39;00m\u001b[38;5;21;01mllms\u001b[39;00m \u001b[38;5;28;01mimport\u001b[39;00m OpenAI\n\u001b[0;32m      6\u001b[0m \u001b[38;5;28;01mfrom\u001b[39;00m \u001b[38;5;21;01mlangchain\u001b[39;00m\u001b[38;5;21;01m.\u001b[39;00m\u001b[38;5;21;01mutilities\u001b[39;00m\u001b[38;5;21;01m.\u001b[39;00m\u001b[38;5;21;01mgithub\u001b[39;00m \u001b[38;5;28;01mimport\u001b[39;00m GitHubAPIWrapper\n",
      "\u001b[1;31mModuleNotFoundError\u001b[0m: No module named 'langchain.agents.agent_toolkits.github'"
     ]
    }
   ],
   "source": [
    "import os\n",
    "from langchain.agents import AgentType\n",
    "from langchain.agents import initialize_agent\n",
    "from langchain.agents.agent_toolkits.github.toolkit import GitHubToolkit\n",
    "from langchain.llms import OpenAI\n",
    "from langchain.utilities.github import GitHubAPIWrapper"
   ]
  },
  {
   "cell_type": "code",
   "execution_count": null,
   "id": "11c16981",
   "metadata": {},
   "outputs": [],
   "source": []
  }
 ],
 "metadata": {
  "kernelspec": {
   "display_name": "Python 3 (ipykernel)",
   "language": "python",
   "name": "python3"
  },
  "language_info": {
   "codemirror_mode": {
    "name": "ipython",
    "version": 3
   },
   "file_extension": ".py",
   "mimetype": "text/x-python",
   "name": "python",
   "nbconvert_exporter": "python",
   "pygments_lexer": "ipython3",
   "version": "3.10.9"
  }
 },
 "nbformat": 4,
 "nbformat_minor": 5
}
