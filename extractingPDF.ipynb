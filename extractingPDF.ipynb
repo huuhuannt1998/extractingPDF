{
 "cells": [
  {
   "cell_type": "code",
   "execution_count": null,
   "id": "d764e938",
   "metadata": {},
   "outputs": [],
   "source": [
    "# !pip install pdfplumber\n",
    "import pdfplumber"
   ]
  },
  {
   "cell_type": "code",
   "execution_count": null,
   "id": "dfe7034f",
   "metadata": {},
   "outputs": [],
   "source": [
    "#Read the PDF File\n",
    "\n",
    "import pdfplumber\n",
    "import pandas as pd\n",
    "\n",
    "filename = \"sec21-fu-chenglong.pdf\"\n",
    "\n",
    "with pdfplumber.open(filename) as pdf:\n",
    "    for page_number, page in enumerate(pdf.pages):\n",
    "        table = page.extract_table()\n",
    "        \n",
    "        if table: # Check if table is not None\n",
    "            # Convert the table to a DataFrame\n",
    "            df = pd.DataFrame(table[1:], columns=table[0])\n",
    "            \n",
    "            # Create a CSV filename based on the PDF filename and page number\n",
    "            csv_filename = filename.split('.')[0] + f'_page{page_number}.csv'\n",
    "            \n",
    "            # Save the DataFrame to a CSV file\n",
    "            df.to_csv(csv_filename, encoding='utf-8-sig', index=False)\n",
    "\n",
    "print(\"Tables extracted and saved as CSV files.\")\n",
    "\n"
   ]
  },
  {
   "cell_type": "code",
   "execution_count": null,
   "id": "eb0e7475",
   "metadata": {},
   "outputs": [],
   "source": [
    "total_pages = len(pdf.pages)\n",
    "print(total_pages)\n",
    "# with pdf as f:\n",
    "#   for i in f.pages:\n",
    "#     txt += i.extract_tables()\n",
    "# page = pdf.pages[2]"
   ]
  },
  {
   "cell_type": "code",
   "execution_count": null,
   "id": "7ba4fd18",
   "metadata": {},
   "outputs": [],
   "source": [
    "with pdfplumber.open(filename) as pdf:\n",
    "    txt = ''\n",
    "    for page in pdf.pages:\n",
    "        txt += page.extract_text()\n",
    "\n",
    "# print(txt)"
   ]
  },
  {
   "cell_type": "code",
   "execution_count": null,
   "id": "71e26cab",
   "metadata": {},
   "outputs": [],
   "source": [
    "from fpdf import FPDF\n",
    "\n",
    "def add_wrapped_text(pdf, text, max_width, line_height):\n",
    "    words = text.split(' ')\n",
    "    lines = []\n",
    "    current_line = \"\"\n",
    "    for word in words:\n",
    "        test_line = current_line + word + \" \"\n",
    "        test_width = pdf.get_string_width(test_line)\n",
    "        if test_width <= max_width:\n",
    "            current_line = test_line\n",
    "        else:\n",
    "            lines.append(current_line)\n",
    "            current_line = word + \" \"\n",
    "    lines.append(current_line)\n",
    "\n",
    "    for line in lines:\n",
    "        line_encoded = line.encode('latin-1', 'replace').decode('latin-1')\n",
    "        pdf.cell(max_width, line_height, line_encoded)\n",
    "        pdf.ln(line_height)\n",
    "\n",
    "text = txt  # Insert the text you want to fit\n",
    "font_size = 12\n",
    "line_height = font_size * 1.5  # 1.5 line spacing\n",
    "\n",
    "pdf = FPDF()\n",
    "pdf.add_page()\n",
    "pdf.set_font('Times', '', font_size)\n",
    "pdf.set_margins(25.4, 25.4, 25.4)  # One-inch margins\n",
    "\n",
    "max_width = 159  # Width of the available space on the page, considering margins\n",
    "add_wrapped_text(pdf, text, max_width, line_height)\n",
    "\n",
    "pdf.output('output_text.pdf', 'F')\n"
   ]
  },
  {
   "cell_type": "code",
   "execution_count": null,
   "id": "2bd355ef",
   "metadata": {},
   "outputs": [],
   "source": [
    "# import csv\n",
    "\n",
    "# with pdfplumber.open(filename) as pdf:\n",
    "#     table_count = 0\n",
    "#     for page_number, page in enumerate(pdf.pages):\n",
    "#         # Extract tables from the page\n",
    "#         tables = page.extract_tables()\n",
    "\n",
    "#         for table in tables:\n",
    "#             # Define the CSV filename based on the page number and table count\n",
    "#             csv_filename = f\"table_page{page_number}_table{table_count}.csv\"\n",
    "            \n",
    "#             # Open the CSV file for writing\n",
    "#             with open(csv_filename, 'w', newline='') as csvfile:\n",
    "#                 writer = csv.writer(csvfile)\n",
    "                \n",
    "#                 # Write each row of the table to the CSV\n",
    "#                 for row in table:\n",
    "#                     writer.writerow(row)\n",
    "\n",
    "#             table_count += 1\n",
    "\n",
    "# print(f\"{table_count} tables extracted and saved as CSV files.\")\n",
    "\n",
    "\n",
    "\n",
    "\n"
   ]
  },
  {
   "cell_type": "code",
   "execution_count": null,
   "id": "9ffdf704",
   "metadata": {},
   "outputs": [],
   "source": []
  }
 ],
 "metadata": {
  "kernelspec": {
   "display_name": "Python 3 (ipykernel)",
   "language": "python",
   "name": "python3"
  },
  "language_info": {
   "codemirror_mode": {
    "name": "ipython",
    "version": 3
   },
   "file_extension": ".py",
   "mimetype": "text/x-python",
   "name": "python",
   "nbconvert_exporter": "python",
   "pygments_lexer": "ipython3",
   "version": "3.11.3"
  }
 },
 "nbformat": 4,
 "nbformat_minor": 5
}
